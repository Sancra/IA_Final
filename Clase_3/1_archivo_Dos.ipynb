{
 "cells": [
  {
   "cell_type": "markdown",
   "metadata": {},
   "source": [
    "# Manejo de variables"
   ]
  },
  {
   "cell_type": "code",
   "execution_count": 1,
   "metadata": {},
   "outputs": [
    {
     "name": "stdout",
     "output_type": "stream",
     "text": [
      "12\n",
      "seccion uno\n"
     ]
    }
   ],
   "source": [
    "#variable entero\n",
    "variable_int = 12\n",
    "print(variable_int)\n",
    "print(\"seccion uno\")\n"
   ]
  },
  {
   "cell_type": "code",
   "execution_count": 73,
   "metadata": {},
   "outputs": [
    {
     "name": "stdout",
     "output_type": "stream",
     "text": [
      "['a', 'b', 1, 1.8]\n"
     ]
    }
   ],
   "source": [
    "my_string = \"thisStringisAwesome\"\n",
    "my_string_dos = \"Texto dos\"\n",
    "s = 10\n",
    "my_string.upper()\n",
    "my_string.lower()\n",
    "my_string.count(\"i\")\n",
    "my_string.replace(\"this\",\"is\")\n",
    "my_string + my_string_dos\n",
    "\"th\" in my_string\n",
    "#lista[ ]\n",
    "lista = [\"a\",\"b\",1,1.8]\n",
    "\n",
    "# print(type(lista[1:2]))\n",
    "print(lista[0:4])\n"
   ]
  }
 ],
 "metadata": {
  "kernelspec": {
   "display_name": "Python 3",
   "language": "python",
   "name": "python3"
  },
  "language_info": {
   "codemirror_mode": {
    "name": "ipython",
    "version": 3
   },
   "file_extension": ".py",
   "mimetype": "text/x-python",
   "name": "python",
   "nbconvert_exporter": "python",
   "pygments_lexer": "ipython3",
   "version": "3.12.0"
  }
 },
 "nbformat": 4,
 "nbformat_minor": 2
}
